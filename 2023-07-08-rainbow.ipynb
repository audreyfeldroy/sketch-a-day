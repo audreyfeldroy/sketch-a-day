{
 "cells": [
  {
   "cell_type": "code",
   "execution_count": null,
   "metadata": {},
   "outputs": [],
   "source": [
    "size(600, 600)\n",
    "background('#004477')  # dark blue background\n",
    "no_stroke()\n",
    "\n",
    "# Draw a rainbow\n",
    "# 1. Draw 6 concentric circles of different colors\n",
    "# 2. Draw a dark blue circle in the center\n",
    "# 3. Draw a dark blue rectangle half the width and height of the circle, covering the bottom half of the circle\n",
    "\n",
    "fill('#ff0000')  # red\n",
    "ellipse(300, 300, 500, 500)\n",
    "\n",
    "fill('#ff9900')  # orange\n",
    "ellipse(300, 300, 450, 450)\n",
    "\n",
    "fill('#ffff00')  # yellow\n",
    "ellipse(300, 300, 400, 400)\n",
    "\n",
    "fill('#00ff00')  # green\n",
    "ellipse(300, 300, 350, 350)\n",
    "\n",
    "fill('#0099ff')  # blue\n",
    "ellipse(300, 300, 300, 300)\n",
    "\n",
    "fill('#6633ff')  # purple\n",
    "ellipse(300, 300, 250, 250)\n",
    "\n",
    "fill('#004477')  # dark blue\n",
    "ellipse(300, 300, 200, 200)\n",
    "rect(300, 300, 100, 100)"
   ]
  },
  {
   "attachments": {},
   "cell_type": "markdown",
   "metadata": {},
   "source": [
    "size(600, 600)\n",
    "background('#004477')  # dark blue background\n",
    "no_stroke()\n",
    "\n",
    "# Draw a rainbow\n",
    "# 1. Draw 6 concentric circles of different colors\n",
    "# 2. Draw a dark blue circle in the center\n",
    "# 3. Draw a dark blue rectangle half the width and height of the circle, covering the bottom half of the circle\n",
    "\n",
    "fill('#ff0000')  # red\n",
    "ellipse(300, 300, 500, 500)\n",
    "\n",
    "fill('#ff9900')  # orange\n",
    "ellipse(300, 300, 450, 450)\n",
    "\n",
    "fill('#ffff00')  # yellow\n",
    "ellipse(300, 300, 400, 400)\n",
    "\n",
    "fill('#00ff00')  # green\n",
    "ellipse(300, 300, 350, 350)\n",
    "\n",
    "fill('#0099ff')  # blue\n",
    "ellipse(300, 300, 300, 300)\n",
    "\n",
    "fill('#6633ff')  # purple\n",
    "ellipse(300, 300, 250, 250)\n",
    "\n",
    "fill('#004477')  # dark blue\n",
    "ellipse(300, 300, 200, 200)\n",
    "rect(300, 300, 100, 100)"
   ]
  },
  {
   "cell_type": "code",
   "execution_count": null,
   "metadata": {},
   "outputs": [],
   "source": []
  }
 ],
 "metadata": {
  "kernelspec": {
   "display_name": "py5bot",
   "language": "python",
   "name": "py5bot"
  },
  "orig_nbformat": 4
 },
 "nbformat": 4,
 "nbformat_minor": 2
}
